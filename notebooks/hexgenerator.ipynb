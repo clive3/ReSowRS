{
 "cells": [
  {
   "cell_type": "markdown",
   "id": "eae2b074",
   "metadata": {},
   "source": [
    "## imports"
   ]
  },
  {
   "cell_type": "code",
   "execution_count": 1,
   "id": "57671afa",
   "metadata": {},
   "outputs": [],
   "source": [
    "import os\n",
    "from geopandas import read_file\n",
    "from geojson import Feature, FeatureCollection, dump\n",
    "import json\n",
    "import simplekml\n",
    "from pyproj import transform, Proj\n",
    "\n",
    "data_partition = 'd:\\\\data\\\\resowrs'\n",
    "\n",
    "hexgrid_dir = os.path.join(data_partition, 'hexgrid')\n",
    "base_file_path = os.path.join(hexgrid_dir, 'grids', 'hex_basegrid.geojson')\n",
    "out_file_path = os.path.join(hexgrid_dir, 'hexgrid.geojson')\n",
    "\n",
    "base_grid = read_file(base_file_path)\n",
    "\n",
    "crs = {\n",
    "        \"type\": \"name\",\n",
    "        \"properties\": {\"name\": base_grid.crs['init']}\n",
    "      }\n",
    "\n",
    "def WKT(hexgrid_df):\n",
    "    \n",
    "    west = hexgrid_df['west'].values[0]\n",
    "    east = hexgrid_df['east'].values[0]\n",
    "    north = hexgrid_df['north'].values[0]\n",
    "    south = hexgrid_df['south'].values[0]\n",
    "    \n",
    "    print(f'POLYGON(({west} {north}, {west} {south} ,' + \\\n",
    "           f'{east} {south}, {east} {north}, {west} {north}))')"
   ]
  },
  {
   "cell_type": "markdown",
   "id": "3a33e596",
   "metadata": {},
   "source": [
    "## run the code"
   ]
  },
  {
   "cell_type": "code",
   "execution_count": 2,
   "id": "81931ea7",
   "metadata": {},
   "outputs": [],
   "source": [
    "features = []\n",
    "for index, row in base_grid.iterrows():\n",
    "    features.append(Feature(geometry=row['geometry'],\n",
    "                            properties={'id': index}))\n",
    "\n",
    "feature_collection = FeatureCollection(features, crs=crs)\n",
    "\n",
    "with open(out_file_path, 'w') as f:\n",
    "   dump(feature_collection, f)"
   ]
  },
  {
   "cell_type": "code",
   "execution_count": 4,
   "id": "510b1ec9",
   "metadata": {},
   "outputs": [
    {
     "name": "stdout",
     "output_type": "stream",
     "text": [
      "MULTIPOLYGON (((-2.6793451 50.4878638, -2.5968334 50.3983859, -2.4343753 50.3991067, -2.353813 50.4893101, -2.4360247 50.5789604, -2.5991015 50.578235, -2.6793451 50.4878638)))\n",
      "POLYGON((351902.89601377555 75561.165, 351902.89601377555 55561.165 ,374996.9067813606 55561.165, 374996.9067813606 75561.165, 351902.89601377555 75561.165))\n",
      "\n",
      "MULTIPOLYGON (((-2.5435058 59.3851676, -2.440715 59.295755, -2.237995 59.2962846, -2.1369961 59.38623, -2.2392619 59.4758808, -2.443056 59.475348, -2.5435058 59.3851676)))\n",
      "POLYGON((369223.40408946434 1065561.165, 369223.40408946434 1045561.165 ,392317.4148570494 1045561.165, 392317.4148570494 1065561.165, 369223.40408946434 1065561.165))\n",
      "\n",
      "MULTIPOLYGON (((-0.4734599 50.7496472, -0.6370873 50.751673, -0.716448 50.8425047, -0.6318393 50.9314746, -0.4675814 50.9294351, -0.3885631 50.8384398, -0.4734599 50.7496472)))\n",
      "POLYGON((490466.96061928576 115561.165, 490466.96061928576 95561.165 ,513560.97138687083 95561.165, 513560.97138687083 115561.165, 490466.96061928576 115561.165))\n",
      "\n"
     ]
    }
   ],
   "source": [
    "for cell in [324, 325, 389]:\n",
    "    \n",
    "    hexcell_file_path = os.path.join(hexgrid_dir, f'hexgrid_{str(cell)}.geojson')\n",
    "\n",
    "    features = []\n",
    "    for index, row in base_grid.iterrows():\n",
    "        \n",
    "        if index == cell:\n",
    "            features.append(Feature(geometry=row['geometry'],\n",
    "                            properties={'id': index,\n",
    "                                        'west': row['left'],\n",
    "                                        'east': row['right'],\n",
    "                                        'south': row['bottom'],\n",
    "                                        'north': row['top']}))\n",
    "            print(row['geometry'])\n",
    "            \n",
    "    feature_collection = FeatureCollection(features, crs=crs)\n",
    "\n",
    "    with open(hexcell_file_path, 'w') as f:\n",
    "       dump(feature_collection, f)\n",
    "    \n",
    "    WKT(read_file(hexcell_file_path))\n",
    "    print()"
   ]
  },
  {
   "cell_type": "code",
   "execution_count": null,
   "id": "951eab71",
   "metadata": {},
   "outputs": [],
   "source": [
    "with open(base_file_path) as f:\n",
    "    data = json.load(f)\n",
    "\n",
    "\n",
    "projectionIn = Proj(init='epsg:32627')\n",
    "\n",
    "kml = simplekml.Kml()\n",
    "for feature in data['features']:\n",
    "    coord_tuples = []\n",
    "    coord_list = (feature['geometry']['coordinates'][0][0])\n",
    "    for coord in coord_list:\n",
    "        long_w, lat_n = projectionIn(coord[0], coord[1], inverse=True)\n",
    "#        long_w, lat_n = transform(projectionIn, projectionIn,\n",
    "#                                  coord[0], coord[1])\n",
    "        coord_tuples.append((long_w, lat_n))\n",
    "    print(coord_tuples)\n",
    "    name = str((int(feature['properties']['id'])))\n",
    "    if feature['geometry']['type'] == 'MultiPolygon':\n",
    "        kml.newpolygon(name=name,\n",
    "                       description='test',\n",
    "                       outerboundaryis=coord_tuples)\n",
    "kml.save(base_file_path.replace('geojson', 'kml'))"
   ]
  },
  {
   "cell_type": "code",
   "execution_count": null,
   "id": "73370cde",
   "metadata": {},
   "outputs": [],
   "source": []
  }
 ],
 "metadata": {
  "kernelspec": {
   "display_name": "resowrs",
   "language": "python",
   "name": "resowrs"
  },
  "language_info": {
   "codemirror_mode": {
    "name": "ipython",
    "version": 3
   },
   "file_extension": ".py",
   "mimetype": "text/x-python",
   "name": "python",
   "nbconvert_exporter": "python",
   "pygments_lexer": "ipython3",
   "version": "3.8.13"
  }
 },
 "nbformat": 4,
 "nbformat_minor": 5
}
