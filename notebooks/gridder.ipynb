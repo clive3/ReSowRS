{
 "cells": [
  {
   "cell_type": "markdown",
   "id": "eae2b074",
   "metadata": {},
   "source": [
    "## imports"
   ]
  },
  {
   "cell_type": "code",
   "execution_count": null,
   "id": "57671afa",
   "metadata": {},
   "outputs": [],
   "source": [
    "import os\n",
    "from geopandas import read_file\n",
    "import pandas as pd\n",
    "from geojson import Feature, FeatureCollection, dump\n",
    "import json\n",
    "import simplekml\n",
    "\n",
    "from pyproj import transform, Proj\n",
    "#projectionIn = Proj(init='epsg:32627')\n",
    "\n",
    "data_partition = 'c:\\\\data\\\\ReSOW'\n",
    "grid_file_path = os.path.join(data_partition, 'grid_original.geojson')\n",
    "grid = read_file(grid_file_path)\n",
    "proj_BGS = Proj(init=\"epsg:27700\")\n",
    "\n",
    "\n",
    "def eeROI(row_geometry):\n",
    "    \n",
    "    east = north = -999\n",
    "    west = south = 999\n",
    "    \n",
    "    for coord in row_geometry[1][0].exterior.coords:\n",
    "        west_4326, north_4326 = proj_BGS(coord[0], coord[1], inverse=True)\n",
    "        \n",
    "        if west_4326 < west:\n",
    "            west = west_4326\n",
    "        if west_4326 > east:\n",
    "            east = west_4326\n",
    "        if north_4326 > north:\n",
    "            north = north_4326\n",
    "        if north_4326 < south:\n",
    "            south = north_4326  \n",
    "            \n",
    "    ee_string = f'[[[{west:.3f}, {north:.3f}], ' +\\\n",
    "                  f'[{west:.3f}, {south:.3f}], ' +\\\n",
    "                  f'[{east:.3f}, {south:.3f}], ' +\\\n",
    "                  f'[{east:.3f}, {north:.3f}], ' +\\\n",
    "                  f'[{west:.3f}, {north:.3f}]]]'\n",
    "    \n",
    "    wkt_string = f'POLYGON(({west:.3f} {north:.3f}, ' +\\\n",
    "                         f'{west:.3f} {south:.3f}, ' +\\\n",
    "                         f'{east:.3f} {south:.3f}, ' +\\\n",
    "                         f'{east:.3f} {north:.3f}, ' +\\\n",
    "                         f'{west:.3f} {north:.3f}))'\n",
    "    print(row_geometry[0], ee_string)\n",
    "    print()\n",
    "#    print(wkt_string)"
   ]
  },
  {
   "cell_type": "markdown",
   "id": "3a33e596",
   "metadata": {},
   "source": [
    "## run the code"
   ]
  },
  {
   "cell_type": "code",
   "execution_count": null,
   "id": "510b1ec9",
   "metadata": {},
   "outputs": [],
   "source": [
    "for cell in [7,16,17,32,33,46,57,58,72,73,79,80,88,89,93]:\n",
    "    for index, row in grid.iterrows():\n",
    "        if row['id'] == cell:\n",
    "            eeROI(row)"
   ]
  },
  {
   "cell_type": "code",
   "execution_count": null,
   "id": "6086f84c",
   "metadata": {},
   "outputs": [],
   "source": [
    "[[[-6.613, 50.103], [-6.613, 49.629], [-4.496, 49.676], [-4.496, 50.142],"
   ]
  },
  {
   "cell_type": "code",
   "execution_count": null,
   "id": "a3e084e7",
   "metadata": {},
   "outputs": [],
   "source": [
    "grid"
   ]
  },
  {
   "cell_type": "code",
   "execution_count": null,
   "id": "cfe549e3",
   "metadata": {},
   "outputs": [],
   "source": []
  }
 ],
 "metadata": {
  "kernelspec": {
   "display_name": "resowrs",
   "language": "python",
   "name": "resowrs"
  },
  "language_info": {
   "codemirror_mode": {
    "name": "ipython",
    "version": 3
   },
   "file_extension": ".py",
   "mimetype": "text/x-python",
   "name": "python",
   "nbconvert_exporter": "python",
   "pygments_lexer": "ipython3",
   "version": "3.8.13"
  }
 },
 "nbformat": 4,
 "nbformat_minor": 5
}
