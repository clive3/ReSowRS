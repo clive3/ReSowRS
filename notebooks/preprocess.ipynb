{
 "cells": [
  {
   "cell_type": "code",
   "execution_count": null,
   "id": "1a895204",
   "metadata": {},
   "outputs": [],
   "source": [
    "import os\n",
    "import glob\n",
    "import numpy as np\n",
    "import xarray as xr\n",
    "\n",
    "os.chdir('../')\n",
    "project_dir = os.getcwd()\n",
    "\n",
    "from resow import *\n",
    "Config = ReSOW_Config()"
   ]
  },
  {
   "cell_type": "code",
   "execution_count": null,
   "id": "10fd413e",
   "metadata": {},
   "outputs": [],
   "source": [
    "data_directory = os.path.join(Config.PATHS['data partition'], Config.PATHS['tile'])\n",
    "\n",
    "if os.path.isdir(data_directory):\n",
    "    printProgress(f'data directory is: \"{data_directory}\"')\n",
    "else:\n",
    "    printError(f'check for valid data directory in \"PATHS\": {data_directory}')\n",
    "    \n",
    "netCDF_filepaths = glob.glob(pathname=data_directory+'/*.nc',\n",
    "                             recursive=False)\n",
    "\n",
    "printProgress(f'found {len(netCDF_filepaths)} netCDF files')"
   ]
  },
  {
   "cell_type": "code",
   "execution_count": null,
   "id": "6b94a555",
   "metadata": {},
   "outputs": [],
   "source": [
    "for index, netCDF_file in enumerate(netCDF_filepaths):    \n",
    "    printProgress(f'processing {netCDF_file}')\n",
    "\n",
    "    data_xr = xr.open_dataset(netCDF_file)\n",
    "    x_attrs = data_xr.coords['x'].attrs\n",
    "    y_attrs = data_xr.coords['y'].attrs\n",
    "    \n",
    "    for key in data_xr.keys():    \n",
    "        if 'B' in key:\n",
    "            printProgress(f'{key} {np.min(data_xr[key]):.2f}' +\n",
    "                          f' {np.mean(data_xr[key]):.2f}' +\n",
    "                          f' {np.max(data_xr[key]):.2f}' +\n",
    "                          f' {np.count_nonzero(data_xr[key]<0)}')\n",
    "            new_da = xr.where(data_xr[key] < 0, -999, data_xr[key],\n",
    "                             keep_attrs=True)\n",
    "            new_da.attrs = data_xr[key].attrs\n",
    "            data_xr[key] = new_da\n",
    "    \n",
    "    data_xr.coords['x'].attrs = x_attrs\n",
    "    data_xr.coords['y'].attrs = y_attrs\n",
    "    \n",
    "    output_filepath = netCDF_file.replace('.nc', '_pp.nc')\n",
    "    printProgress(f'writing: {output_filepath}')\n",
    "    data_xr.to_netcdf(output_filepath, mode=\"w\", format=\"NETCDF4\")\n",
    "    printProgress('')\n",
    "    \n",
    "printProgress('done')"
   ]
  },
  {
   "cell_type": "code",
   "execution_count": null,
   "id": "eeb7c8f1",
   "metadata": {},
   "outputs": [],
   "source": [
    "data_xr['B11'].plot()"
   ]
  },
  {
   "cell_type": "code",
   "execution_count": null,
   "id": "cbef1d8a",
   "metadata": {},
   "outputs": [],
   "source": [
    "data_xr.keys()"
   ]
  },
  {
   "cell_type": "code",
   "execution_count": null,
   "id": "afb9a9cd",
   "metadata": {},
   "outputs": [],
   "source": []
  }
 ],
 "metadata": {
  "kernelspec": {
   "display_name": "Python 3 (ipykernel)",
   "language": "python",
   "name": "python3"
  },
  "language_info": {
   "codemirror_mode": {
    "name": "ipython",
    "version": 3
   },
   "file_extension": ".py",
   "mimetype": "text/x-python",
   "name": "python",
   "nbconvert_exporter": "python",
   "pygments_lexer": "ipython3",
   "version": "3.8.13"
  }
 },
 "nbformat": 4,
 "nbformat_minor": 5
}
