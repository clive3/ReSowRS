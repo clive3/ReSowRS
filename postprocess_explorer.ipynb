{
 "cells": [
  {
   "cell_type": "code",
   "execution_count": null,
   "metadata": {},
   "outputs": [],
   "source": [
    "import os\n",
    "import sys\n",
    "if not sys.warnoptions:\n",
    "    import warnings\n",
    "    warnings.simplefilter('ignore')\n",
    "import numpy as np\n",
    "from dateutil.parser import parse\n",
    "\n",
    "import matplotlib.pyplot as plt\n",
    "from skimage.morphology import remove_small_objects, remove_small_holes, \\\n",
    "    disk, erosion, opening, dilation\n",
    "from skimage import segmentation\n",
    "from skimage.filters import threshold_otsu\n",
    "\n",
    "from utils.geotiff_utils import readGeotiff, writeGeotiff\n",
    "from utils.name_utils import  medianFilePath, dateStamp\n",
    "from utils.print_utils import printProgress, printSuccess, printLine, printError\n",
    "from twl.twl_name_utils import recoveryTWLFilePath\n",
    "from twl.twl_params import tideGaugeMetaData\n",
    "from twl.twl_utils import rawTWLArray, prepTWLArray, postprocessTWLArray\n",
    "from global_params import REGION\n",
    "\n",
    "datumShift = tideGaugeMetaData[1]\n",
    "def plotComparison(original, filtered, original_name, filter_name, median_np):\n",
    "\n",
    "    fig, (ax1, ax2) = plt.subplots(ncols=2, figsize=(40, 100), sharex=True,\n",
    "                                   sharey=True)\n",
    "    ax1.imshow(median_np, cmap=plt.cm.gray, alpha=1.0)\n",
    "    ax1.imshow(original, cmap='jet')\n",
    "    ax1.set_title(original_name)\n",
    "    ax1.axis('off')\n",
    "    ax2.imshow(median_np, cmap=plt.cm.gray, alpha=1.0)\n",
    "    ax2.imshow(filtered, cmap='jet')\n",
    "    ax2.set_title(filter_name)\n",
    "    ax2.axis('off')\n",
    "\n",
    "dateRange = [\n",
    "             ['2016-03-01', '2016-10-31'],\n",
    "#                 ['2017-03-01', '2017-10-31'],\n",
    "#                 ['2018-03-01', '2018-10-31'],\n",
    "#                 ['2019-03-01', '2019-10-31'],\n",
    "#                 ['2020-03-01', '2020-10-31'],\n",
    "#                  ['2021-03-01', '2021-10-31'],\n",
    "            ]\n",
    "date_range = [parse(dateRange[0][0]).date(), parse(dateRange[0][1]).date()]\n",
    "print(f'processing {REGION}: {dateStamp(date_range).replace(\"_\", \" to \")}')\n",
    "\n",
    "median_file_path = medianFilePath(date_range)\n",
    "if not os.path.exists(median_file_path):\n",
    "    printError(f'median file not found: {median_file_path}')\n",
    "else:\n",
    "    printProgress(f'median file: {median_file_path}')\n",
    "    \n",
    "median_np, geometry = readGeotiff(median_file_path)\n",
    "median_np = median_np[0,:,:]\n",
    "\n",
    "results_path = 'd:\\\\data\\\\uk\\\\' + region + '\\\\release'\n",
    "writeGeotiffs = False\n",
    "\n",
    "smallObjectSize = 1000"
   ]
  },
  {
   "cell_type": "code",
   "execution_count": null,
   "metadata": {},
   "outputs": [],
   "source": [
    "otsu_np = median_np.copy()\n",
    "otsu_np[np.isnan(otsu_np)] = 0\n",
    "otsu_threshold = threshold_otsu(otsu_np)*1.1\n",
    "small_object_size = 100000\n",
    "mask1_np = np.where(median_np > otsu_threshold, 1, 0)\n",
    "mask1_np = remove_small_holes(remove_small_objects(\n",
    "                          mask1_np,\n",
    "                          1000), 1000)\n",
    "plt.figure(figsize=(10,10))\n",
    "ax = plt.gca()\n",
    "ax.imshow(mask1_np, cmap=plt.cm.gray)\n",
    "\n",
    "if writeGeotiffs:\n",
    "    file_path = os.path.join(results_path,\n",
    "                              REGION + '_mask.tif')\n",
    "    print(file_path)\n",
    "    writeGeotiff(mask1_np, file_path, geometry)"
   ]
  },
  {
   "cell_type": "code",
   "execution_count": null,
   "metadata": {},
   "outputs": [],
   "source": [
    "mask1_np = remove_small_holes(remove_small_objects(\n",
    "                          mask1_np,\n",
    "                          small_object_size), small_object_size)\n",
    "\n",
    "footprint = disk(20)\n",
    "eroded = erosion(mask1_np, disk(10))\n",
    "\n",
    "eroded = remove_small_holes(remove_small_objects(eroded, small_object_size),\n",
    "                          small_object_size)\n",
    "\n",
    "plt.figure(figsize=(10,10))\n",
    "ax = plt.gca()\n",
    "ax.imshow(eroded, cmap=plt.cm.gray)\n",
    "\n",
    "#np.save(os.path.join(results_path, 'mask_1.npy'), eroded)\n",
    "if writeGeotiffs:\n",
    "    file_path = os.path.join(results_path,\n",
    "                              REGION + '_mask_3.tif')\n",
    "    print(file_path)\n",
    "    writeGeotiff(eroded, file_path, geometry)"
   ]
  },
  {
   "cell_type": "code",
   "execution_count": null,
   "metadata": {},
   "outputs": [],
   "source": [
    "otsu_np = median_np.copy()\n",
    "otsu_np[np.isnan(otsu_np)] = 0\n",
    "otsu_threshold = threshold_otsu(otsu_np)*1.1\n",
    "small_object_size = 10000\n",
    "mask2_np = np.where(median_np > otsu_threshold, 1, 0)\n",
    "\n",
    "mask2_np = remove_small_holes(remove_small_objects(\n",
    "                          mask2_np,\n",
    "                          small_object_size), small_object_size)\n",
    "\n",
    "mask2_np[mask1_np == 0] = np.NaN\n",
    "\n",
    "plt.figure(figsize=(10,10))\n",
    "ax = plt.gca()\n",
    "ax.imshow(mask2_np, cmap=plt.cm.gray)\n",
    "\n",
    "#np.save(os.path.join(results_path, 'mask_2.npy'), mask2_np)\n",
    "if writeGeotiffs:\n",
    "    writeGeotiff(mask2_np, os.path.join(results_path,\n",
    "                              REGION + '_mask_2.tif'), geometry)"
   ]
  },
  {
   "cell_type": "code",
   "execution_count": null,
   "metadata": {},
   "outputs": [],
   "source": [
    "## Portsmouth\n",
    "dateRange = ['2015-10-01', '2016-06-20']\n",
    "dateRange = ['2018-02-01', '2018-07-31']\n",
    "dateRange = ['2020-07-17', '2020-10-21']\n",
    "\n",
    "## Pagham\n",
    "dateRange = ['2020-05-01', '2020-09-30']\n",
    "dateRange = ['2020-07-15', '2020-12-16']\n",
    "dateRange = ['2020-07-01', '2020-11-30']\n",
    "dateRange = ['2020-07-01', '2020-10-31']\n",
    "\n",
    "date_range = [parse(dateRange[0]).date(), parse(dateRange[1]).date()]\n",
    "\n",
    "date_stamp = dateRange[0][:4]+dateRange[0][5:7]+ dateRange[0][8:10]+'_'+\\\n",
    "             dateRange[1][:4]+dateRange[1][5:7]+ dateRange[1][8:10]\n",
    "\n",
    "twl_orig_np = np.load(recoveryTWLFilePath(date_range, 'total'))\n",
    "height_orig_np = twl_orig_np[0,:]\n",
    "corr_np = twl_np[1,:]\n",
    "\n",
    "if True:\n",
    "    height_orig_np = np.where(mask_np==1, height_orig_np, np.NaN)\n",
    "\n",
    "printLine(2)\n",
    "printProgress('')\n",
    "\n",
    "printProgress(f'2018 orig:\\t{np.nanmin(height_orig_np):.0f}' +\\\n",
    "              f'\\t{np.nanmax(height_orig_np):.0f}\\t{np.nanmean(height_orig_np):.1f}')\n",
    "\n",
    "printProgress('')\n",
    "printLine(2)\n",
    "\n",
    "if writeGeotiffs:\n",
    "    writeGeotiff(rawTWLArray(height_orig_np, corr_np),\n",
    "                 os.path.join(results_path,\n",
    "                              'TWL_2018_raw.tif'), geometry)"
   ]
  },
  {
   "cell_type": "code",
   "execution_count": null,
   "metadata": {},
   "outputs": [],
   "source": [
    "plt.figure(figsize=(10,10))\n",
    "ax = plt.gca()\n",
    "ax.imshow(median_np, cmap=plt.cm.gray, alpha=1.0)\n",
    "ax.imshow(twl_orig_np, cmap='jet')"
   ]
  },
  {
   "cell_type": "code",
   "execution_count": null,
   "metadata": {},
   "outputs": [],
   "source": [
    "twl_ar = height_orig_np[~np.isnan(height_orig_np)]\n",
    "\n",
    "# matplotlib histogram\n",
    "plt.hist(twl_ar,\n",
    "         color = 'blue',\n",
    "         edgecolor = 'black',\n",
    "         bins = 50)\n",
    "\n",
    "plt.title('Histogram of TWL elevations')\n",
    "plt.xlabel('heights (mm)')\n",
    "plt.ylabel('pixels')"
   ]
  },
  {
   "cell_type": "code",
   "execution_count": null,
   "metadata": {},
   "outputs": [],
   "source": [
    "twl_prep_np = prepTWLArray(twl_orig_np, corr_np,\n",
    "                           corr_threshold=0.5,\n",
    "                           low_high_cut=[500, 1800])\n",
    "\n",
    "printLine(2)\n",
    "printProgress('')\n",
    "\n",
    "printProgress(f'TWL prep:\\t{np.nanmin(twl_prep_np):.0f}' + \\\n",
    "              f'\\t{np.nanmax(twl_prep_np):.0f}\\t{np.nanmean(twl_prep_np):.1f}')\n",
    "printProgress('')\n",
    "printLine(2)\n",
    "\n",
    "if writeGeotiffs:\n",
    "    writeGeotiff(twl_prep_np,\n",
    "                 os.path.join(results_path,\n",
    "                              'TWL_2018_prep.tif'), geometry)\n",
    "plt.figure(figsize=(10,10))\n",
    "ax = plt.gca()\n",
    "ax.imshow(median_np, cmap=plt.cm.gray, alpha=1.0)\n",
    "ax.imshow(twl_prep_np, cmap='jet')"
   ]
  },
  {
   "cell_type": "code",
   "execution_count": null,
   "metadata": {},
   "outputs": [],
   "source": [
    "twl_prep_ar = twl_prep_np[~np.isnan(twl_prep_np)]\n",
    "prep_count = len(twl_prep_ar)\n",
    "\n",
    "plt.hist(twl_prep_ar,\n",
    "         range=[-500,3000],\n",
    "         color='blue',\n",
    "         edgecolor='black',\n",
    "         bins=35)\n",
    "\n",
    "plt.suptitle('Histogram of TWL elevations')\n",
    "plt.title('after prep function')\n",
    "plt.xlabel('heights (mm)')\n",
    "plt.ylabel('pixels')"
   ]
  },
  {
   "cell_type": "code",
   "execution_count": null,
   "metadata": {},
   "outputs": [],
   "source": [
    "twl_post_np = postprocessTWLArray(twl_prep_np,\n",
    "                                  small_object_size=1000,\n",
    "                                  max_height=None,\n",
    "                                  min_height=None)\n",
    "if writeGeotiffs:\n",
    "    writeGeotiff(twl_post_np,\n",
    "                 os.path.join(results_path,\n",
    "                              'TWL_2018_post.tif'), geometry)\n",
    "printLine(2)\n",
    "printProgress('')\n",
    "\n",
    "printProgress(f'TWL post:\\t{np.nanmin(twl_post_np):.0f}' + \\\n",
    "              f'\\t{np.nanmax(twl_post_np):.0f}\\t{np.nanmean(twl_post_np):.1f}')\n",
    "printProgress('')\n",
    "printLine(2)\n",
    "\n",
    "plt.figure(figsize=(10,10))\n",
    "ax = plt.gca()\n",
    "ax.imshow(median_np, cmap=plt.cm.gray, alpha=1.0)\n",
    "ax.imshow(twl_post_np, cmap='jet')"
   ]
  },
  {
   "cell_type": "code",
   "execution_count": null,
   "metadata": {},
   "outputs": [],
   "source": [
    "twl_post_ar = twl_post_np[~np.isnan(twl_post_np)]\n",
    "post_count = len(twl_post_ar)\n",
    "\n",
    "plt.hist(twl_post_ar,\n",
    "         range=[-500,3000],\n",
    "         color='blue',\n",
    "         edgecolor='black',\n",
    "         bins=35)\n",
    "\n",
    "plt.suptitle('Histogram of TWL elevations')\n",
    "plt.title('after post function')\n",
    "plt.xlabel('heights (mm)')\n",
    "plt.ylabel('pixels')"
   ]
  },
  {
   "cell_type": "code",
   "execution_count": null,
   "metadata": {},
   "outputs": [],
   "source": [
    "print(f'chopped: {(post_count*100/prep_count):.2f}')"
   ]
  },
  {
   "cell_type": "code",
   "execution_count": null,
   "metadata": {},
   "outputs": [],
   "source": [
    "#%matplotlib\n",
    "#plotComparison(twl_orig_np, twl_chopped_np, 'original', 'de-cluttered', median_np)"
   ]
  },
  {
   "cell_type": "code",
   "execution_count": null,
   "metadata": {},
   "outputs": [],
   "source": [
    "#twl_np = twl_np/(np.nanmax(twl_np/255.0)).astype(np.int)\n",
    "#slic = segmentation.slic(twl_np, n_segments=25, start_label=1)"
   ]
  },
  {
   "cell_type": "code",
   "execution_count": null,
   "metadata": {},
   "outputs": [],
   "source": [
    "#plt.figure(figsize=(10,10))\n",
    "#ax = plt.gca()\n",
    "#ax.imshow(median_np, cmap=plt.cm.gray, alpha=1.0)\n",
    "#ax.imshow(twl_np, cmap='jet')\n",
    "#ax.imshow(segmentation.mark_boundaries(twl_np, slic))\n",
    "#ax.contour(mask, colors='fuchsia', linewidths=1)"
   ]
  },
  {
   "cell_type": "code",
   "execution_count": null,
   "metadata": {},
   "outputs": [],
   "source": []
  },
  {
   "cell_type": "code",
   "execution_count": 36,
   "metadata": {},
   "outputs": [
    {
     "name": "stderr",
     "output_type": "stream",
     "text": [
      "C:\\Users\\cneil\\Anaconda3\\envs\\coastsatnoc\\lib\\site-packages\\ipykernel_launcher.py:20: UserWarning: Only one label was provided to `remove_small_objects`. Did you mean to use a boolean array?\n",
      "C:\\Users\\cneil\\Anaconda3\\envs\\coastsatnoc\\lib\\site-packages\\ipykernel_launcher.py:21: UserWarning: Any labeled images will be returned as a boolean array. Did you mean to use a boolean array?\n"
     ]
    },
    {
     "data": {
      "text/plain": [
       "<matplotlib.image.AxesImage at 0x17b97a90cc8>"
      ]
     },
     "execution_count": 36,
     "metadata": {},
     "output_type": "execute_result"
    },
    {
     "data": {
      "image/png": "[encoded data removed]",
      "text/plain": [
       "<Figure size 720x720 with 1 Axes>"
      ]
     },
     "metadata": {
      "needs_background": "light"
     },
     "output_type": "display_data"
    }
   ],
   "source": [
    "import os\n",
    "import numpy as np\n",
    "import matplotlib.pyplot as plt\n",
    "from skimage.morphology import remove_small_objects, remove_small_holes, \\\n",
    "    disk, erosion, opening, dilation\n",
    "from gee_connection.preprocess import readGeotiff, writeGeotiff\n",
    "\n",
    "\n",
    "SMALL_OBJECT_SIZE = 1000\n",
    "median_dir_path = 'D:\\\\data\\\\resow\\\\Scilly\\\\median'\n",
    "\n",
    "hansen_file_path = os.path.join(median_dir_path, 'hansen2015.tif')\n",
    "seamask_file_path = os.path.join(median_dir_path, 'sea_mask.tif')\n",
    "\n",
    "hansen_np, geometry = readGeotiff(hansen_file_path)\n",
    "hansen_np = np.squeeze(hansen_np)\n",
    "\n",
    "water_mask_np = np.where(hansen_np == 1, 0, 1)\n",
    "\n",
    "water_mask_np = remove_small_holes(remove_small_objects(water_mask_np, SMALL_OBJECT_SIZE),\n",
    "                      SMALL_OBJECT_SIZE)\n",
    "\n",
    "plt.figure(figsize=(10,10))\n",
    "ax = plt.gca()\n",
    "ax.imshow(water_mask_np, cmap='jet')"
   ]
  },
  {
   "cell_type": "code",
   "execution_count": 37,
   "metadata": {},
   "outputs": [
    {
     "data": {
      "text/plain": [
       "<matplotlib.image.AxesImage at 0x17b97b29c08>"
      ]
     },
     "execution_count": 37,
     "metadata": {},
     "output_type": "execute_result"
    },
    {
     "data": {
      "image/png": "[encoded data removed]",
      "text/plain": [
       "<Figure size 720x720 with 1 Axes>"
      ]
     },
     "metadata": {
      "needs_background": "light"
     },
     "output_type": "display_data"
    }
   ],
   "source": [
    "footprint = disk(30)\n",
    "eroded = erosion(water_mask_np, footprint)\n",
    "\n",
    "v = remove_small_holes(remove_small_objects(eroded, SMALL_OBJECT_SIZE),\n",
    "                      SMALL_OBJECT_SIZE)\n",
    "\n",
    "plt.figure(figsize=(10,10))\n",
    "ax = plt.gca()\n",
    "ax.imshow(v, cmap='jet')"
   ]
  },
  {
   "cell_type": "code",
   "execution_count": 30,
   "metadata": {},
   "outputs": [],
   "source": [
    "writeGeotiff(eroded, seamask_file_path, geometry)"
   ]
  },
  {
   "cell_type": "code",
   "execution_count": null,
   "metadata": {},
   "outputs": [],
   "source": []
  },
  {
   "cell_type": "code",
   "execution_count": null,
   "metadata": {},
   "outputs": [],
   "source": []
  }
 ],
 "metadata": {
  "kernelspec": {
   "display_name": "Python 3 (ipykernel)",
   "language": "python",
   "name": "python3"
  },
  "language_info": {
   "codemirror_mode": {
    "name": "ipython",
    "version": 3
   },
   "file_extension": ".py",
   "mimetype": "text/x-python",
   "name": "python",
   "nbconvert_exporter": "python",
   "pygments_lexer": "ipython3",
   "version": "3.7.11"
  }
 },
 "nbformat": 4,
 "nbformat_minor": 4
}
