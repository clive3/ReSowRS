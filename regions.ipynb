{
 "cells": [
  {
   "cell_type": "markdown",
   "id": "difficult-liabilities",
   "metadata": {},
   "source": [
    "## imports"
   ]
  },
  {
   "cell_type": "code",
   "execution_count": 1,
   "id": "olympic-religious",
   "metadata": {},
   "outputs": [],
   "source": [
    "import os\n",
    "import numpy as np\n",
    "from shapely import geometry\n",
    "from osgeo import ogr\n",
    "\n",
    "from utils.print_utils import printProgress, printSuccess, printWarning\n",
    "        \n",
    "# directory where the data will be accessed and stored\n",
    "data_partition = 'c:\\\\data\\\\'\n",
    "country = 'cco'\n",
    "base_dir_path = os.path.join(data_partition, country)  \n",
    "sites_dir_path = os.path.join(base_dir_path, 'sites')\n",
    "results_dir_path = os.path.join(base_dir_path, 'regions')\n",
    "sites = os.listdir(sites_dir_path)"
   ]
  },
  {
   "cell_type": "markdown",
   "id": "resident-battlefield",
   "metadata": {},
   "source": [
    "## functions"
   ]
  },
  {
   "cell_type": "code",
   "execution_count": 2,
   "id": "valid-moldova",
   "metadata": {},
   "outputs": [],
   "source": [
    "def polygon_from_kml(fn):\n",
    "\n",
    "    # read .kml file\n",
    "    with open(fn) as kmlFile:\n",
    "        doc = kmlFile.read()\n",
    "        # parse to find coordinates field\n",
    "    str1 = '<coordinates>'\n",
    "    str2 = '</coordinates>'\n",
    "    subdoc = doc[doc.find(str1) + len(str1):doc.find(str2)]\n",
    "    \n",
    "    coordlist = subdoc.split(',')\n",
    "\n",
    "    polygon = []\n",
    "    for coord_pair in range(int(len(coordlist) / 2)):\n",
    "        lat = float(coordlist[coord_pair * 2].replace('0 ', ''))\n",
    "        lon = float(coordlist[coord_pair * 2 + 1].replace('0 ', ''))\n",
    "        polygon.append([lat, lon])\n",
    "\n",
    "    return polygon\n",
    "\n",
    "\n",
    "def smallest_rectangle(polygon):\n",
    "    \n",
    "    multipoints = geometry.Polygon(polygon)\n",
    "    polygon_geom = multipoints.envelope\n",
    "    coords_polygon = np.array(polygon_geom.exterior.coords)\n",
    "    polygon_rect = [[_[0], _[1]] for _ in coords_polygon]\n",
    "    \n",
    "    return polygon_rect\n",
    "\n",
    "\n",
    "def poly2wkt(polygon):\n",
    "    # Create ring\n",
    "    ring = ogr.Geometry(ogr.wkbLinearRing)\n",
    "    \n",
    "    for pt in polygon:\n",
    "        ring.AddPoint(pt[0], pt[1])\n",
    "\n",
    "    # Create polygon\n",
    "    poly = ogr.Geometry(ogr.wkbPolygon)\n",
    "    poly.AddGeometry(ring)\n",
    "\n",
    "    print(poly.ExportToWkt())\n",
    "#    print (poly.ExportToJson())\n",
    "#    polygon_str = str(poly.ExportToWkt())\n",
    "#    print(f'{polygon_str:.2f}')\n",
    "    \n",
    "def wkt2shp(wkt_list, shp_file):\n",
    "\n",
    "    # Define a linestring feature geometry with one attribute\n",
    "    schema = {\n",
    "        'geometry': 'LineString',\n",
    "        'properties': {'id': 'int'},\n",
    "    }\n",
    "\n",
    "    # Write a new shapefile\n",
    "    with fiona.open(shp_file, 'w', 'ESRI Shapefile', schema) as c:\n",
    "        for i, line in enumerate(wkt_list):\n",
    "            shape = shapely.wkt.loads(line)\n",
    "            c.write({\n",
    "                    'geometry': mapping(shape),\n",
    "                    'properties': {'id': i},\n",
    "                    })\n",
    "\n",
    "    return"
   ]
  },
  {
   "cell_type": "markdown",
   "id": "superior-newman",
   "metadata": {},
   "source": [
    "## run the code"
   ]
  },
  {
   "cell_type": "code",
   "execution_count": 3,
   "id": "neutral-kazakhstan",
   "metadata": {},
   "outputs": [
    {
     "name": "stdout",
     "output_type": "stream",
     "text": [
      "progress  >>>  processing: Portdinllaen\n",
      "\n",
      "c:\\data\\cco\\sites\\Portdinllaen.kml\n",
      "POLYGON ((-4.58849986226323 52.9293354441919 0,-4.4941225140105 52.9293354441919 0,-4.4941225140105 52.9582823481204 0,-4.58849986226323 52.9582823481204 0,-4.58849986226323 52.9293354441919 0))\n",
      "\n",
      "progress  >>>  FINISHED ...\n"
     ]
    }
   ],
   "source": [
    "for site in sites:\n",
    "    \n",
    "    site_name = site[:site.find('.')]\n",
    "    \n",
    "    printProgress(f'processing: {site_name}')\n",
    "    print()\n",
    "        \n",
    "    kml_filepath = os.path.join(sites_dir_path, site)\n",
    "    print(kml_filepath)\n",
    "    kml_polygon = polygon_from_kml(kml_filepath)\n",
    "    \n",
    "    roi_polygon = smallest_rectangle(kml_polygon)\n",
    "\n",
    "    poly2wkt(roi_polygon)\n",
    "            \n",
    "print()\n",
    "printProgress('FINISHED ...')"
   ]
  },
  {
   "cell_type": "code",
   "execution_count": null,
   "id": "70c4d84b",
   "metadata": {},
   "outputs": [],
   "source": []
  },
  {
   "cell_type": "code",
   "execution_count": null,
   "id": "b5c0f908",
   "metadata": {},
   "outputs": [],
   "source": []
  }
 ],
 "metadata": {
  "kernelspec": {
   "display_name": "Python 3 (ipykernel)",
   "language": "python",
   "name": "python3"
  },
  "language_info": {
   "codemirror_mode": {
    "name": "ipython",
    "version": 3
   },
   "file_extension": ".py",
   "mimetype": "text/x-python",
   "name": "python",
   "nbconvert_exporter": "python",
   "pygments_lexer": "ipython3",
   "version": "3.7.11"
  }
 },
 "nbformat": 4,
 "nbformat_minor": 5
}
