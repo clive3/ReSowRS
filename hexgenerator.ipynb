{
 "cells": [
  {
   "cell_type": "markdown",
   "id": "eae2b074",
   "metadata": {},
   "source": [
    "## imports"
   ]
  },
  {
   "cell_type": "code",
   "execution_count": 6,
   "id": "57671afa",
   "metadata": {},
   "outputs": [],
   "source": [
    "import os\n",
    "import geopandas as gpd\n",
    "\n",
    "from utils.print_utils import printProgress, printSuccess, printWarning\n",
    "        \n",
    "# directory where the data will be accessed and stored\n",
    "data_partition = 'd:\\\\data\\\\resow'\n",
    "\n",
    "hexgrid_dir = os.path.join(data_partition, 'hexgrid')\n",
    "if not os.path.isdir(hexgrid_dir):\n",
    "    os.mkdir(hexgrid_dir)"
   ]
  },
  {
   "cell_type": "markdown",
   "id": "42846c86",
   "metadata": {},
   "source": [
    "## functions"
   ]
  },
  {
   "cell_type": "code",
   "execution_count": 11,
   "id": "5b1fdfa0",
   "metadata": {},
   "outputs": [
    {
     "name": "stdout",
     "output_type": "stream",
     "text": [
      "      id          left            top         right         bottom  \\\n",
      "0  118.0  33247.949343  806668.653685  62115.462803  781668.653685   \n",
      "\n",
      "                                            geometry  \n",
      "0  POLYGON ((-8.0259441 56.8931832, -7.8904852 56...  \n"
     ]
    }
   ],
   "source": [
    "base_file_path = os.path.join(hexgrid_dir, 'base_hexagons.geojsonl.json')\n",
    "base_grid = gpd.read_file(base_file_path)\n",
    "print(base_grid.head(3))"
   ]
  },
  {
   "cell_type": "markdown",
   "id": "3a33e596",
   "metadata": {},
   "source": [
    "## run the code"
   ]
  },
  {
   "cell_type": "code",
   "execution_count": null,
   "id": "9e835f1b",
   "metadata": {},
   "outputs": [],
   "source": [
    "for site in sites:\n",
    "    \n",
    "    site_name = site[:site.find('.')]\n",
    "    \n",
    "    printProgress(f'processing: {site_name}')\n",
    "    print()\n",
    "        \n",
    "    kml_filepath = os.path.join(sites_dir_path, site)\n",
    "    print(kml_filepath)\n",
    "    kml_polygon = polygon_from_kml(kml_filepath)\n",
    "    \n",
    "    roi_polygon = smallest_rectangle(kml_polygon)\n",
    "\n",
    "    poly2wkt(roi_polygon)\n",
    "            \n",
    "print()\n",
    "printProgress('FINISHED ...')"
   ]
  },
  {
   "cell_type": "code",
   "execution_count": null,
   "id": "1e30a225",
   "metadata": {},
   "outputs": [],
   "source": []
  },
  {
   "cell_type": "code",
   "execution_count": null,
   "id": "a2c0b16e",
   "metadata": {},
   "outputs": [],
   "source": []
  }
 ],
 "metadata": {
  "kernelspec": {
   "display_name": "Python 3 (ipykernel)",
   "language": "python",
   "name": "python3"
  },
  "language_info": {
   "codemirror_mode": {
    "name": "ipython",
    "version": 3
   },
   "file_extension": ".py",
   "mimetype": "text/x-python",
   "name": "python",
   "nbconvert_exporter": "python",
   "pygments_lexer": "ipython3",
   "version": "3.7.13"
  }
 },
 "nbformat": 4,
 "nbformat_minor": 5
}
