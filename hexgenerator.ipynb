{
 "cells": [
  {
   "cell_type": "markdown",
   "id": "eae2b074",
   "metadata": {},
   "source": [
    "## imports"
   ]
  },
  {
   "cell_type": "code",
   "execution_count": null,
   "id": "57671afa",
   "metadata": {},
   "outputs": [],
   "source": [
    "import os\n",
    "from geopandas import read_file\n",
    "from geojson import Feature, FeatureCollection, dump\n",
    "\n",
    "data_partition = 'd:\\\\data\\\\resow'\n",
    "\n",
    "hexgrid_dir = os.path.join(data_partition, 'hexgrid')\n",
    "base_file_path = os.path.join(hexgrid_dir, 'hexgrid_base.geojson')\n",
    "out_file_path = os.path.join(hexgrid_dir, 'hexgrid2.geojson')\n",
    "\n",
    "base_grid = read_file(base_file_path)\n",
    "\n",
    "crs = {\n",
    "        \"type\": \"name\",\n",
    "        \"properties\": {\"name\": base_grid.crs['init']}\n",
    "      }\n",
    "\n",
    "def WKT(hexgrid_df):\n",
    "    \n",
    "    west = hexgrid_df['west'].values[0]\n",
    "    east = hexgrid_df['east'].values[0]\n",
    "    north = hexgrid_df['north'].values[0]\n",
    "    south = hexgrid_df['south'].values[0]\n",
    "    \n",
    "    print(f'POLYGON(({west} {north}, {west} {south} ,' + \\\n",
    "           f'{east} {south}, {east} {north}, {west} {north}))')"
   ]
  },
  {
   "cell_type": "markdown",
   "id": "3a33e596",
   "metadata": {},
   "source": [
    "## run the code"
   ]
  },
  {
   "cell_type": "code",
   "execution_count": null,
   "id": "81931ea7",
   "metadata": {},
   "outputs": [],
   "source": [
    "features = []\n",
    "for index, row in base_grid.iterrows():\n",
    "    features.append(Feature(geometry=row['geometry'],\n",
    "                            properties={'id': index}))\n",
    "\n",
    "feature_collection = FeatureCollection(features, crs=crs)\n",
    "\n",
    "with open(out_file_path, 'w') as f:\n",
    "   dump(feature_collection, f)"
   ]
  },
  {
   "cell_type": "code",
   "execution_count": null,
   "id": "510b1ec9",
   "metadata": {},
   "outputs": [],
   "source": [
    "for cell in [23, 63, 88, 128, 204, 258]:\n",
    "    \n",
    "    hexcell_file_path = os.path.join(hexgrid_dir, f'hexgrid_{str(cell)}.geojson')\n",
    "\n",
    "    features = []\n",
    "    for index, row in base_grid.iterrows():\n",
    "        \n",
    "        if index == cell:\n",
    "            features.append(Feature(geometry=row['geometry'],\n",
    "                            properties={'id': index,\n",
    "                                        'west': row['left'],\n",
    "                                        'east': row['right'],\n",
    "                                        'south': row['bottom'],\n",
    "                                        'north': row['top']}))\n",
    "            \n",
    "    feature_collection = FeatureCollection(features, crs=crs)\n",
    "\n",
    "    with open(hexcell_file_path, 'w') as f:\n",
    "       dump(feature_collection, f)\n",
    "    \n",
    "    WKT(read_file(hexcell_file_path))\n",
    "    print()"
   ]
  },
  {
   "cell_type": "code",
   "execution_count": null,
   "id": "951eab71",
   "metadata": {},
   "outputs": [],
   "source": []
  }
 ],
 "metadata": {
  "kernelspec": {
   "display_name": "Python 3 (ipykernel)",
   "language": "python",
   "name": "python3"
  },
  "language_info": {
   "codemirror_mode": {
    "name": "ipython",
    "version": 3
   },
   "file_extension": ".py",
   "mimetype": "text/x-python",
   "name": "python",
   "nbconvert_exporter": "python",
   "pygments_lexer": "ipython3",
   "version": "3.7.13"
  }
 },
 "nbformat": 4,
 "nbformat_minor": 5
}
