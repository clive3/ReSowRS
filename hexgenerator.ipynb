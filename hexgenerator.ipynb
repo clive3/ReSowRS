{
 "cells": [
  {
   "cell_type": "markdown",
   "id": "eae2b074",
   "metadata": {},
   "source": [
    "## imports"
   ]
  },
  {
   "cell_type": "code",
   "execution_count": null,
   "id": "57671afa",
   "metadata": {},
   "outputs": [],
   "source": [
    "import os\n",
    "import geopandas as gpd\n",
    "\n",
    "from utils.print_utils import printProgress, printSuccess, printWarning\n",
    "        \n",
    "# directory where the data will be accessed and stored\n",
    "data_partition = 'd:\\\\data\\\\resow'\n",
    "\n",
    "hexgrid_dir = os.path.join(data_partition, 'hexgrid')\n",
    "if not os.path.isdir(hexgrid_dir):\n",
    "    os.mkdir(hexgrid_dir)"
   ]
  },
  {
   "cell_type": "markdown",
   "id": "42846c86",
   "metadata": {},
   "source": [
    "## functions"
   ]
  },
  {
   "cell_type": "code",
   "execution_count": null,
   "id": "5b1fdfa0",
   "metadata": {},
   "outputs": [],
   "source": [
    "base_file_path = os.path.join(hexgrid_dir, 'base_grid.geojson')\n",
    "base_grid = gpd.read_file(base_file_path)\n",
    "base_grid = base_grid.drop(columns=['left','right','top', 'bottom'])\n",
    "print(base_grid.head(3))"
   ]
  },
  {
   "cell_type": "markdown",
   "id": "3a33e596",
   "metadata": {},
   "source": [
    "## run the code"
   ]
  },
  {
   "cell_type": "code",
   "execution_count": null,
   "id": "a2c0b16e",
   "metadata": {},
   "outputs": [],
   "source": [
    "base_grid.to_file(os.path.join(hexgrid_dir, 'hexgrid.geojson'),\n",
    "                  driver='GeoJSON', index='True')"
   ]
  },
  {
   "cell_type": "code",
   "execution_count": null,
   "id": "cc853432",
   "metadata": {},
   "outputs": [],
   "source": []
  }
 ],
 "metadata": {
  "kernelspec": {
   "display_name": "Python 3 (ipykernel)",
   "language": "python",
   "name": "python3"
  },
  "language_info": {
   "codemirror_mode": {
    "name": "ipython",
    "version": 3
   },
   "file_extension": ".py",
   "mimetype": "text/x-python",
   "name": "python",
   "nbconvert_exporter": "python",
   "pygments_lexer": "ipython3",
   "version": "3.7.13"
  }
 },
 "nbformat": 4,
 "nbformat_minor": 5
}
