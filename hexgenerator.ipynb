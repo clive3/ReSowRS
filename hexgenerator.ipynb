{
 "cells": [
  {
   "cell_type": "markdown",
   "id": "eae2b074",
   "metadata": {},
   "source": [
    "## imports"
   ]
  },
  {
   "cell_type": "code",
   "execution_count": 1,
   "id": "57671afa",
   "metadata": {},
   "outputs": [],
   "source": [
    "import os\n",
    "from geopandas import read_file\n",
    "from geojson import Feature, FeatureCollection, dump\n",
    "\n",
    "data_partition = 'd:\\\\data\\\\resow'\n",
    "\n",
    "hexgrid_dir = os.path.join(data_partition, 'hexgrid')\n",
    "base_file_path = os.path.join(hexgrid_dir, 'base_grid.geojson')\n",
    "out_file_path = os.path.join(hexgrid_dir, 'hexgrid.geojson')\n",
    "\n",
    "base_grid = read_file(base_file_path)\n",
    "crs = {\n",
    "        \"type\": \"name\",\n",
    "        \"properties\": {\"name\": base_grid.crs['init']}\n",
    "      }"
   ]
  },
  {
   "cell_type": "markdown",
   "id": "3a33e596",
   "metadata": {},
   "source": [
    "## run the code"
   ]
  },
  {
   "cell_type": "code",
   "execution_count": 2,
   "id": "1b30bcf6",
   "metadata": {},
   "outputs": [],
   "source": [
    "features = []\n",
    "for index, row in base_grid.iterrows():\n",
    "    features.append(Feature(geometry=row['geometry'], properties={'id': index}))\n",
    "\n",
    "feature_collection = FeatureCollection(features, crs=crs)\n",
    "\n",
    "with open(out_file_path, 'w') as f:\n",
    "   dump(feature_collection, f)"
   ]
  },
  {
   "cell_type": "code",
   "execution_count": null,
   "id": "522237df",
   "metadata": {},
   "outputs": [],
   "source": []
  }
 ],
 "metadata": {
  "kernelspec": {
   "display_name": "Python 3 (ipykernel)",
   "language": "python",
   "name": "python3"
  },
  "language_info": {
   "codemirror_mode": {
    "name": "ipython",
    "version": 3
   },
   "file_extension": ".py",
   "mimetype": "text/x-python",
   "name": "python",
   "nbconvert_exporter": "python",
   "pygments_lexer": "ipython3",
   "version": "3.7.13"
  }
 },
 "nbformat": 4,
 "nbformat_minor": 5
}
