{
 "cells": [
  {
   "cell_type": "markdown",
   "id": "eae2b074",
   "metadata": {},
   "source": [
    "## imports"
   ]
  },
  {
   "cell_type": "code",
   "execution_count": null,
   "id": "57671afa",
   "metadata": {},
   "outputs": [],
   "source": [
    "import os\n",
    "import geopandas as gpd\n",
    "from geojson import Feature, FeatureCollection, dump\n",
    "\n",
    "data_partition = 'd:\\\\data\\\\resow'\n",
    "\n",
    "hexgrid_dir = os.path.join(data_partition, 'hexgrid')\n",
    "if not os.path.isdir(hexgrid_dir):\n",
    "    os.mkdir(hexgrid_dir)\n",
    "    \n",
    "base_file_path = os.path.join(hexgrid_dir, 'base_grid.geojson')\n",
    "out_file_path = os.path.join(hexgrid_dir, 'hexgrid.geojson')"
   ]
  },
  {
   "cell_type": "markdown",
   "id": "3a33e596",
   "metadata": {},
   "source": [
    "## run the code"
   ]
  },
  {
   "cell_type": "code",
   "execution_count": null,
   "id": "c55b232e",
   "metadata": {},
   "outputs": [],
   "source": [
    "base_grid = gpd.read_file(base_file_path)\n",
    "base_grid = base_grid.drop(columns=['left','right','top', 'bottom'])\n",
    "\n",
    "features = []\n",
    "for index, row in base_grid.iterrows():\n",
    "    features.append(Feature(geometry=row['geometry'], properties={'id': index}))\n",
    "\n",
    "crs = {\n",
    "    \"type\": \"name\",\n",
    "    \"properties\": {\n",
    "        \"name\": base_grid.crs['init']\n",
    "    }\n",
    "}\n",
    "\n",
    "feature_collection = FeatureCollection(features, crs=crs)\n",
    "\n",
    "with open(out_file_path, 'w') as f:\n",
    "   dump(feature_collection, f)"
   ]
  },
  {
   "cell_type": "code",
   "execution_count": null,
   "id": "f1d15362",
   "metadata": {},
   "outputs": [],
   "source": [
    "base_grid.crs['init']"
   ]
  },
  {
   "cell_type": "code",
   "execution_count": null,
   "id": "8cc4f744",
   "metadata": {},
   "outputs": [],
   "source": []
  }
 ],
 "metadata": {
  "kernelspec": {
   "display_name": "Python 3 (ipykernel)",
   "language": "python",
   "name": "python3"
  },
  "language_info": {
   "codemirror_mode": {
    "name": "ipython",
    "version": 3
   },
   "file_extension": ".py",
   "mimetype": "text/x-python",
   "name": "python",
   "nbconvert_exporter": "python",
   "pygments_lexer": "ipython3",
   "version": "3.7.13"
  }
 },
 "nbformat": 4,
 "nbformat_minor": 5
}
