{
 "cells": [
  {
   "cell_type": "markdown",
   "metadata": {},
   "source": [
    "# RESOW download composite S2 image\n",
    "\n",
    "This code has been written by Clive Neil (2022) for the NOC project ReSow with th eaim of using remote sensed data to delineate the presence of seagrass around the UK coast.\n",
    "\n",
    "Retrieval of median composite Sentinel-2 images of the case study regions from Google Earth Engine.\n",
    "\n",
    "\n",
    "## Initial settings\n",
    "\n",
    "Refer to the Set-up and Installation section of the User Handbook for instructions on how to install the Python packages necessary to run the software, including Google Earth Engine Python API. See original methodology via https://github.com/kvos/CoastSat"
   ]
  },
  {
   "cell_type": "code",
   "execution_count": null,
   "metadata": {},
   "outputs": [],
   "source": [
    "import os\n",
    "import sys\n",
    "import json\n",
    "import numpy as np\n",
    "import warnings\n",
    "warnings.filterwarnings(\"ignore\")\n",
    "\n",
    "from utils.print_utils import printProgress, printSuccess, printWarning\n",
    "\n",
    "from gee_connection import downloader, preprocess,  tools\n",
    "\n",
    "from global_parameters import BAND_DICT, SWIR\n",
    "\n",
    "\n",
    "# directory where the data will be accessed and stored\n",
    "data_partition = 'd:\\\\data\\\\resow'\n",
    "sites_dir_path = os.path.join(data_partition, 'sites')\n",
    "\n",
    "sites = os.listdir(sites_dir_path)\n",
    "\n",
    "summer = [\n",
    "         ['2021-06-01', '2021-08-31']\n",
    "         ]\n",
    "\n",
    "dates = summer\n",
    "\n",
    "roi = [-4.57, 52.94] # Portdinllaen\n",
    "roi = [-2.95, 59.28] # Tuquoy\n",
    "\n",
    "download = True"
   ]
  },
  {
   "cell_type": "markdown",
   "metadata": {},
   "source": [
    "## download optical data from GEE"
   ]
  },
  {
   "cell_type": "code",
   "execution_count": null,
   "metadata": {},
   "outputs": [],
   "source": [
    "if download:\n",
    "    for site in sites:\n",
    "\n",
    "        kml_filepath = os.path.join(sites_dir_path, site)    \n",
    "        kml_polygon = tools.polygon_from_kml(kml_filepath)\n",
    "        roi_polygon = tools.smallest_rectangle(kml_polygon)\n",
    "\n",
    "        site_name = site[:site.find('.')]\n",
    "        median_dir_path = os.path.join(data_partition, site_name, 'median')\n",
    "\n",
    "        for date_pair in dates:\n",
    "\n",
    "            printProgress(f'processing {site_name}: {date_pair}')\n",
    "            printProgress('')\n",
    "\n",
    "            downloader.getS2GEEImage(site_name, roi_polygon, date_pair, median_dir_path)    \n",
    "\n",
    "        downloader.save_metadata(site_name, median_dir_path)"
   ]
  },
  {
   "cell_type": "code",
   "execution_count": null,
   "metadata": {},
   "outputs": [],
   "source": [
    "if False:\n",
    "    for NIR_index, NIR_band in enumerate(BAND_DICT['10m'][0]):\n",
    "        if NIR_band == 'B8':\n",
    "            break\n",
    "            \n",
    "    for site in sites:\n",
    "        site_name = site[:site.find('.')]\n",
    "        median_dir_path = os.path.join(data_partition, site_name, 'median')\n",
    "\n",
    "        for date_pair in dates:\n",
    "            metadata = downloader.load_metadata(site_name, median_dir_path, date_pair)\n",
    "            file_names = metadata['file_names']\n",
    "\n",
    "            file_paths = []\n",
    "            for band_index, band_key in enumerate(BAND_DICT.keys()):\n",
    "                file_paths.append(os.path.join(median_dir_path, band_key, file_names[band_index]))\n",
    "\n",
    "            images_ms, geometry = preprocess.preprocess_optical(file_paths,\n",
    "                                      pansharpen=True,\n",
    "                                      NIR_index=NIR_index)\n",
    "            images_ms = np.moveaxis(images_ms, 2, 0)\n",
    "\n",
    "            print(images_ms.shape)"
   ]
  },
  {
   "cell_type": "code",
   "execution_count": null,
   "metadata": {},
   "outputs": [],
   "source": [
    "file_name = os.path.join(median_dir_path, site_name + '_median_6bands_add.tif')\n",
    "preprocess.writeGeotiff(images_ms, file_name, geometry)"
   ]
  },
  {
   "cell_type": "code",
   "execution_count": null,
   "metadata": {},
   "outputs": [],
   "source": [
    "file_name"
   ]
  },
  {
   "cell_type": "code",
   "execution_count": null,
   "metadata": {},
   "outputs": [],
   "source": []
  }
 ],
 "metadata": {
  "kernelspec": {
   "display_name": "Python 3 (ipykernel)",
   "language": "python",
   "name": "python3"
  },
  "language_info": {
   "codemirror_mode": {
    "name": "ipython",
    "version": 3
   },
   "file_extension": ".py",
   "mimetype": "text/x-python",
   "name": "python",
   "nbconvert_exporter": "python",
   "pygments_lexer": "ipython3",
   "version": "3.7.11"
  },
  "toc": {
   "base_numbering": 1,
   "nav_menu": {},
   "number_sections": true,
   "sideBar": true,
   "skip_h1_title": false,
   "title_cell": "Table of Contents",
   "title_sidebar": "Contents",
   "toc_cell": false,
   "toc_position": {},
   "toc_section_display": true,
   "toc_window_display": false
  },
  "varInspector": {
   "cols": {
    "lenName": 16,
    "lenType": 16,
    "lenVar": 40
   },
   "kernels_config": {
    "python": {
     "delete_cmd_postfix": "",
     "delete_cmd_prefix": "del ",
     "library": "var_list.py",
     "varRefreshCmd": "print(var_dic_list())"
    },
    "r": {
     "delete_cmd_postfix": ") ",
     "delete_cmd_prefix": "rm(",
     "library": "var_list.r",
     "varRefreshCmd": "cat(var_dic_list()) "
    }
   },
   "types_to_exclude": [
    "module",
    "function",
    "builtin_function_or_method",
    "instance",
    "_Feature"
   ],
   "window_display": false
  }
 },
 "nbformat": 4,
 "nbformat_minor": 2
}
